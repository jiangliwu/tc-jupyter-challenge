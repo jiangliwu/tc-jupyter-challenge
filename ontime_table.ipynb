{
 "cells": [
  {
   "cell_type": "markdown",
   "metadata": {},
   "source": [
    "# visualize and manipulate the data interactively examples\n",
    "this page show how to visualize and manipulate the data, \n",
    "i write db.py at notebook folder, use that can easily create some query.\n",
    "- https://github.com/mkleehammer/pyodbc/wiki pyodbc-wiki\n",
    "- http://docs.actian.com/vector/5.0/index.html#page/SQLLang%2FSQL_Language_Guide.htm%23 actian vector db sql documents\n",
    "- https://matplotlib.org/2.0.2/index.html matplotlib document"
   ]
  },
  {
   "cell_type": "markdown",
   "metadata": {},
   "source": [
    "## now, let's create some basic query\n",
    "the query language is sql , like mysql or mssql, if we want get the count, we need use `select count(*) from ontime`."
   ]
  },
  {
   "cell_type": "code",
   "execution_count": 8,
   "metadata": {},
   "outputs": [
    {
     "data": {
      "text/html": [
       "<div>\n",
       "<style>\n",
       "    .dataframe thead tr:only-child th {\n",
       "        text-align: right;\n",
       "    }\n",
       "\n",
       "    .dataframe thead th {\n",
       "        text-align: left;\n",
       "    }\n",
       "\n",
       "    .dataframe tbody tr th {\n",
       "        vertical-align: top;\n",
       "    }\n",
       "</style>\n",
       "<table border=\"1\" class=\"dataframe\">\n",
       "  <thead>\n",
       "    <tr style=\"text-align: right;\">\n",
       "      <th></th>\n",
       "      <th>totalCount</th>\n",
       "    </tr>\n",
       "  </thead>\n",
       "  <tbody>\n",
       "    <tr>\n",
       "      <th>0</th>\n",
       "      <td>547219</td>\n",
       "    </tr>\n",
       "  </tbody>\n",
       "</table>\n",
       "</div>"
      ],
      "text/plain": [
       "   totalCount\n",
       "0      547219"
      ]
     },
     "execution_count": 8,
     "metadata": {},
     "output_type": "execute_result"
    }
   ],
   "source": [
    "import db\n",
    "import pandas\n",
    "pandas.DataFrame(db.query('select count(*) from ontime'),columns=['totalCount'])\n"
   ]
  },
  {
   "cell_type": "markdown",
   "metadata": {},
   "source": [
    "### how many items at 2011 year?\n"
   ]
  },
  {
   "cell_type": "code",
   "execution_count": 6,
   "metadata": {
    "scrolled": true
   },
   "outputs": [
    {
     "data": {
      "text/html": [
       "<div>\n",
       "<style>\n",
       "    .dataframe thead tr:only-child th {\n",
       "        text-align: right;\n",
       "    }\n",
       "\n",
       "    .dataframe thead th {\n",
       "        text-align: left;\n",
       "    }\n",
       "\n",
       "    .dataframe tbody tr th {\n",
       "        vertical-align: top;\n",
       "    }\n",
       "</style>\n",
       "<table border=\"1\" class=\"dataframe\">\n",
       "  <thead>\n",
       "    <tr style=\"text-align: right;\">\n",
       "      <th></th>\n",
       "      <th>year</th>\n",
       "      <th>count</th>\n",
       "    </tr>\n",
       "  </thead>\n",
       "  <tbody>\n",
       "    <tr>\n",
       "      <th>0</th>\n",
       "      <td>2011</td>\n",
       "      <td>547219</td>\n",
       "    </tr>\n",
       "  </tbody>\n",
       "</table>\n",
       "</div>"
      ],
      "text/plain": [
       "   year   count\n",
       "0  2011  547219"
      ]
     },
     "execution_count": 6,
     "metadata": {},
     "output_type": "execute_result"
    }
   ],
   "source": [
    "pandas.DataFrame(db.query('select year,count(*) as c1 from ontime group by YEAR'),columns=['year','count'])"
   ]
  },
  {
   "cell_type": "markdown",
   "metadata": {},
   "source": [
    "### how about get the top 20 that order by flightdate?"
   ]
  },
  {
   "cell_type": "code",
   "execution_count": 7,
   "metadata": {},
   "outputs": [
    {
     "data": {
      "text/html": [
       "<div>\n",
       "<style>\n",
       "    .dataframe thead tr:only-child th {\n",
       "        text-align: right;\n",
       "    }\n",
       "\n",
       "    .dataframe thead th {\n",
       "        text-align: left;\n",
       "    }\n",
       "\n",
       "    .dataframe tbody tr th {\n",
       "        vertical-align: top;\n",
       "    }\n",
       "</style>\n",
       "<table border=\"1\" class=\"dataframe\">\n",
       "  <thead>\n",
       "    <tr style=\"text-align: right;\">\n",
       "      <th></th>\n",
       "      <th>date</th>\n",
       "      <th>carrier</th>\n",
       "      <th>origin</th>\n",
       "      <th>origin_city</th>\n",
       "    </tr>\n",
       "  </thead>\n",
       "  <tbody>\n",
       "    <tr>\n",
       "      <th>0</th>\n",
       "      <td>2011-07-01</td>\n",
       "      <td>XE</td>\n",
       "      <td>IAH</td>\n",
       "      <td>Houston, TX</td>\n",
       "    </tr>\n",
       "    <tr>\n",
       "      <th>1</th>\n",
       "      <td>2011-07-01</td>\n",
       "      <td>XE</td>\n",
       "      <td>CLE</td>\n",
       "      <td>Cleveland, OH</td>\n",
       "    </tr>\n",
       "    <tr>\n",
       "      <th>2</th>\n",
       "      <td>2011-07-01</td>\n",
       "      <td>XE</td>\n",
       "      <td>MSN</td>\n",
       "      <td>Madison, WI</td>\n",
       "    </tr>\n",
       "    <tr>\n",
       "      <th>3</th>\n",
       "      <td>2011-07-01</td>\n",
       "      <td>XE</td>\n",
       "      <td>EWR</td>\n",
       "      <td>Newark, NJ</td>\n",
       "    </tr>\n",
       "    <tr>\n",
       "      <th>4</th>\n",
       "      <td>2011-07-01</td>\n",
       "      <td>XE</td>\n",
       "      <td>JAX</td>\n",
       "      <td>Jacksonville, FL</td>\n",
       "    </tr>\n",
       "    <tr>\n",
       "      <th>5</th>\n",
       "      <td>2011-07-01</td>\n",
       "      <td>XE</td>\n",
       "      <td>IAH</td>\n",
       "      <td>Houston, TX</td>\n",
       "    </tr>\n",
       "    <tr>\n",
       "      <th>6</th>\n",
       "      <td>2011-07-01</td>\n",
       "      <td>XE</td>\n",
       "      <td>GRR</td>\n",
       "      <td>Grand Rapids, MI</td>\n",
       "    </tr>\n",
       "    <tr>\n",
       "      <th>7</th>\n",
       "      <td>2011-07-01</td>\n",
       "      <td>XE</td>\n",
       "      <td>ATL</td>\n",
       "      <td>Atlanta, GA</td>\n",
       "    </tr>\n",
       "    <tr>\n",
       "      <th>8</th>\n",
       "      <td>2011-07-01</td>\n",
       "      <td>XE</td>\n",
       "      <td>IAH</td>\n",
       "      <td>Houston, TX</td>\n",
       "    </tr>\n",
       "    <tr>\n",
       "      <th>9</th>\n",
       "      <td>2011-07-01</td>\n",
       "      <td>XE</td>\n",
       "      <td>IAH</td>\n",
       "      <td>Houston, TX</td>\n",
       "    </tr>\n",
       "    <tr>\n",
       "      <th>10</th>\n",
       "      <td>2011-07-01</td>\n",
       "      <td>XE</td>\n",
       "      <td>MKE</td>\n",
       "      <td>Milwaukee, WI</td>\n",
       "    </tr>\n",
       "    <tr>\n",
       "      <th>11</th>\n",
       "      <td>2011-07-01</td>\n",
       "      <td>XE</td>\n",
       "      <td>PBI</td>\n",
       "      <td>West Palm Beach/Palm Beach, FL</td>\n",
       "    </tr>\n",
       "    <tr>\n",
       "      <th>12</th>\n",
       "      <td>2011-07-01</td>\n",
       "      <td>XE</td>\n",
       "      <td>SDF</td>\n",
       "      <td>Louisville, KY</td>\n",
       "    </tr>\n",
       "    <tr>\n",
       "      <th>13</th>\n",
       "      <td>2011-07-01</td>\n",
       "      <td>XE</td>\n",
       "      <td>IAH</td>\n",
       "      <td>Houston, TX</td>\n",
       "    </tr>\n",
       "    <tr>\n",
       "      <th>14</th>\n",
       "      <td>2011-07-01</td>\n",
       "      <td>XE</td>\n",
       "      <td>IAH</td>\n",
       "      <td>Houston, TX</td>\n",
       "    </tr>\n",
       "    <tr>\n",
       "      <th>15</th>\n",
       "      <td>2011-07-01</td>\n",
       "      <td>XE</td>\n",
       "      <td>IAH</td>\n",
       "      <td>Houston, TX</td>\n",
       "    </tr>\n",
       "    <tr>\n",
       "      <th>16</th>\n",
       "      <td>2011-07-01</td>\n",
       "      <td>XE</td>\n",
       "      <td>TUS</td>\n",
       "      <td>Tucson, AZ</td>\n",
       "    </tr>\n",
       "    <tr>\n",
       "      <th>17</th>\n",
       "      <td>2011-07-01</td>\n",
       "      <td>XE</td>\n",
       "      <td>GSO</td>\n",
       "      <td>Greensboro/High Point, NC</td>\n",
       "    </tr>\n",
       "    <tr>\n",
       "      <th>18</th>\n",
       "      <td>2011-07-01</td>\n",
       "      <td>XE</td>\n",
       "      <td>LFT</td>\n",
       "      <td>Lafayette, LA</td>\n",
       "    </tr>\n",
       "    <tr>\n",
       "      <th>19</th>\n",
       "      <td>2011-07-01</td>\n",
       "      <td>XE</td>\n",
       "      <td>PWM</td>\n",
       "      <td>Portland, ME</td>\n",
       "    </tr>\n",
       "  </tbody>\n",
       "</table>\n",
       "</div>"
      ],
      "text/plain": [
       "          date  carrier origin                     origin_city\n",
       "0   2011-07-01  XE       IAH                       Houston, TX\n",
       "1   2011-07-01  XE       CLE                     Cleveland, OH\n",
       "2   2011-07-01  XE       MSN                       Madison, WI\n",
       "3   2011-07-01  XE       EWR                        Newark, NJ\n",
       "4   2011-07-01  XE       JAX                  Jacksonville, FL\n",
       "5   2011-07-01  XE       IAH                       Houston, TX\n",
       "6   2011-07-01  XE       GRR                  Grand Rapids, MI\n",
       "7   2011-07-01  XE       ATL                       Atlanta, GA\n",
       "8   2011-07-01  XE       IAH                       Houston, TX\n",
       "9   2011-07-01  XE       IAH                       Houston, TX\n",
       "10  2011-07-01  XE       MKE                     Milwaukee, WI\n",
       "11  2011-07-01  XE       PBI    West Palm Beach/Palm Beach, FL\n",
       "12  2011-07-01  XE       SDF                    Louisville, KY\n",
       "13  2011-07-01  XE       IAH                       Houston, TX\n",
       "14  2011-07-01  XE       IAH                       Houston, TX\n",
       "15  2011-07-01  XE       IAH                       Houston, TX\n",
       "16  2011-07-01  XE       TUS                        Tucson, AZ\n",
       "17  2011-07-01  XE       GSO         Greensboro/High Point, NC\n",
       "18  2011-07-01  XE       LFT                     Lafayette, LA\n",
       "19  2011-07-01  XE       PWM                      Portland, ME"
      ]
     },
     "execution_count": 7,
     "metadata": {},
     "output_type": "execute_result"
    }
   ],
   "source": [
    "pandas.DataFrame(\n",
    "    db.query('select top 20 flightdate,uniquecarrier,origin,origincityname from ontime order BY 1 asc'),\n",
    "    columns=['date','carrier','origin','origin_city'])"
   ]
  },
  {
   "cell_type": "markdown",
   "metadata": {},
   "source": [
    "## let draw some chart\n",
    "### draw chart about how many times flight in each dayofweek?\n",
    "we need query database group by dayofweek, and use matplotlib draw chart, this example from https://matplotlib.org/2.0.2/examples/lines_bars_and_markers/barh_demo.html"
   ]
  },
  {
   "cell_type": "code",
   "execution_count": 3,
   "metadata": {},
   "outputs": [
    {
     "data": {
      "image/png": "[encoded data removed]",
      "text/plain": [
       "<matplotlib.figure.Figure at 0x7f9d4c9fba20>"
      ]
     },
     "metadata": {},
     "output_type": "display_data"
    }
   ],
   "source": [
    "import matplotlib.pyplot as plt\n",
    "plt.rcdefaults()\n",
    "import numpy as np\n",
    "import matplotlib.pyplot as plt\n",
    "import db\n",
    "\n",
    "plt.rcdefaults()\n",
    "fig, ax = plt.subplots()\n",
    "\n",
    "weekofday_title = ('Sunday', 'Monday', 'Tuesday', 'Wednesday', 'Thursday','Friday','Saturday')\n",
    "y_pos = np.arange(len(weekofday_title))\n",
    "data = db.query('select dayofweek,count(*) as c1 from ontime group by dayofweek')\n",
    "times = [ x[1] for x in data ]\n",
    "error = np.random.rand(len(weekofday_title))\n",
    "\n",
    "ax.barh(y_pos, times, xerr=error, align='center',\n",
    "        color='green', ecolor='black')\n",
    "ax.set_yticks(y_pos)\n",
    "ax.set_yticklabels(weekofday_title)\n",
    "ax.invert_yaxis()\n",
    "ax.set_xlabel('Times')\n",
    "ax.set_title('How many times flight in each dayofweek?')\n",
    "\n",
    "plt.show()\n"
   ]
  },
  {
   "cell_type": "markdown",
   "metadata": {},
   "source": [
    "###  flight delay chart\n",
    "https://matplotlib.org/2.0.2/examples/text_labels_and_annotations/text_demo_fontdict.html"
   ]
  },
  {
   "cell_type": "code",
   "execution_count": 49,
   "metadata": {},
   "outputs": [
    {
     "data": {
      "image/png": "[encoded data removed]",
      "text/plain": [
       "<matplotlib.figure.Figure at 0x7f05e3a01eb8>"
      ]
     },
     "metadata": {},
     "output_type": "display_data"
    }
   ],
   "source": [
    "import numpy as np\n",
    "import matplotlib.pyplot as plt\n",
    "import db\n",
    "count = 50\n",
    "x = np.linspace(0.0, 5.0, count)\n",
    "data = db.query('select top %d depdelay from ontime order BY flightdate asc' % count)\n",
    "y = [ d[0] for d in data]\n",
    "\n",
    "plt.plot(x, y, 'k')\n",
    "plt.title('flight delay')\n",
    "plt.ylabel('time (min)')\n",
    "\n",
    "plt.subplots_adjust(left=0.2)\n",
    "plt.show()"
   ]
  }
 ],
 "metadata": {
  "kernelspec": {
   "display_name": "Python 3",
   "language": "python",
   "name": "python3"
  },
  "language_info": {
   "codemirror_mode": {
    "name": "ipython",
    "version": 3
   },
   "file_extension": ".py",
   "mimetype": "text/x-python",
   "name": "python",
   "nbconvert_exporter": "python",
   "pygments_lexer": "ipython3",
   "version": "3.5.3"
  }
 },
 "nbformat": 4,
 "nbformat_minor": 2
}
